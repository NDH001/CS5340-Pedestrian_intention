{
 "cells": [
  {
   "cell_type": "code",
   "execution_count": 2,
   "id": "d84da41c",
   "metadata": {},
   "outputs": [],
   "source": [
    "import pandas as pd\n",
    "import numpy as np\n",
    "import matplotlib.pyplot as plt"
   ]
  },
  {
   "cell_type": "code",
   "execution_count": 3,
   "id": "b01ce4e2",
   "metadata": {},
   "outputs": [],
   "source": [
    "data_txt = np.loadtxt(\"./obsmat.txt\")\n",
    "data_txt_df = pd.DataFrame(data_txt)\n",
    "data_txt_df.to_csv('datas_train.csv', index=False)"
   ]
  },
  {
   "cell_type": "code",
   "execution_count": 4,
   "id": "95cb9fec",
   "metadata": {},
   "outputs": [
    {
     "data": {
      "text/html": [
       "<div>\n",
       "<style scoped>\n",
       "    .dataframe tbody tr th:only-of-type {\n",
       "        vertical-align: middle;\n",
       "    }\n",
       "\n",
       "    .dataframe tbody tr th {\n",
       "        vertical-align: top;\n",
       "    }\n",
       "\n",
       "    .dataframe thead th {\n",
       "        text-align: right;\n",
       "    }\n",
       "</style>\n",
       "<table border=\"1\" class=\"dataframe\">\n",
       "  <thead>\n",
       "    <tr style=\"text-align: right;\">\n",
       "      <th></th>\n",
       "      <th>0</th>\n",
       "      <th>1</th>\n",
       "      <th>2</th>\n",
       "      <th>3</th>\n",
       "      <th>4</th>\n",
       "      <th>5</th>\n",
       "      <th>6</th>\n",
       "      <th>7</th>\n",
       "    </tr>\n",
       "  </thead>\n",
       "  <tbody>\n",
       "    <tr>\n",
       "      <th>0</th>\n",
       "      <td>780.0</td>\n",
       "      <td>1.0</td>\n",
       "      <td>8.456844</td>\n",
       "      <td>0.0</td>\n",
       "      <td>3.588066</td>\n",
       "      <td>1.671714</td>\n",
       "      <td>0.0</td>\n",
       "      <td>0.176292</td>\n",
       "    </tr>\n",
       "    <tr>\n",
       "      <th>1</th>\n",
       "      <td>786.0</td>\n",
       "      <td>1.0</td>\n",
       "      <td>9.125530</td>\n",
       "      <td>0.0</td>\n",
       "      <td>3.658583</td>\n",
       "      <td>1.662877</td>\n",
       "      <td>0.0</td>\n",
       "      <td>0.326723</td>\n",
       "    </tr>\n",
       "    <tr>\n",
       "      <th>2</th>\n",
       "      <td>792.0</td>\n",
       "      <td>1.0</td>\n",
       "      <td>9.787146</td>\n",
       "      <td>0.0</td>\n",
       "      <td>3.849445</td>\n",
       "      <td>1.683334</td>\n",
       "      <td>0.0</td>\n",
       "      <td>0.371084</td>\n",
       "    </tr>\n",
       "    <tr>\n",
       "      <th>3</th>\n",
       "      <td>798.0</td>\n",
       "      <td>1.0</td>\n",
       "      <td>10.472197</td>\n",
       "      <td>0.0</td>\n",
       "      <td>3.955450</td>\n",
       "      <td>1.598568</td>\n",
       "      <td>0.0</td>\n",
       "      <td>0.264795</td>\n",
       "    </tr>\n",
       "    <tr>\n",
       "      <th>4</th>\n",
       "      <td>804.0</td>\n",
       "      <td>1.0</td>\n",
       "      <td>11.066000</td>\n",
       "      <td>0.0</td>\n",
       "      <td>4.061280</td>\n",
       "      <td>1.574526</td>\n",
       "      <td>0.0</td>\n",
       "      <td>0.456390</td>\n",
       "    </tr>\n",
       "    <tr>\n",
       "      <th>...</th>\n",
       "      <td>...</td>\n",
       "      <td>...</td>\n",
       "      <td>...</td>\n",
       "      <td>...</td>\n",
       "      <td>...</td>\n",
       "      <td>...</td>\n",
       "      <td>...</td>\n",
       "      <td>...</td>\n",
       "    </tr>\n",
       "    <tr>\n",
       "      <th>8903</th>\n",
       "      <td>12381.0</td>\n",
       "      <td>357.0</td>\n",
       "      <td>10.449366</td>\n",
       "      <td>0.0</td>\n",
       "      <td>6.229233</td>\n",
       "      <td>0.596406</td>\n",
       "      <td>0.0</td>\n",
       "      <td>0.066591</td>\n",
       "    </tr>\n",
       "    <tr>\n",
       "      <th>8904</th>\n",
       "      <td>12381.0</td>\n",
       "      <td>367.0</td>\n",
       "      <td>11.201661</td>\n",
       "      <td>0.0</td>\n",
       "      <td>8.443910</td>\n",
       "      <td>0.000000</td>\n",
       "      <td>0.0</td>\n",
       "      <td>0.000000</td>\n",
       "    </tr>\n",
       "    <tr>\n",
       "      <th>8905</th>\n",
       "      <td>12381.0</td>\n",
       "      <td>366.0</td>\n",
       "      <td>12.132311</td>\n",
       "      <td>0.0</td>\n",
       "      <td>6.984982</td>\n",
       "      <td>0.733247</td>\n",
       "      <td>0.0</td>\n",
       "      <td>-0.531564</td>\n",
       "    </tr>\n",
       "    <tr>\n",
       "      <th>8906</th>\n",
       "      <td>12381.0</td>\n",
       "      <td>364.0</td>\n",
       "      <td>12.369087</td>\n",
       "      <td>0.0</td>\n",
       "      <td>4.146375</td>\n",
       "      <td>1.139005</td>\n",
       "      <td>0.0</td>\n",
       "      <td>0.166531</td>\n",
       "    </tr>\n",
       "    <tr>\n",
       "      <th>8907</th>\n",
       "      <td>12381.0</td>\n",
       "      <td>365.0</td>\n",
       "      <td>12.708071</td>\n",
       "      <td>0.0</td>\n",
       "      <td>5.336541</td>\n",
       "      <td>0.922475</td>\n",
       "      <td>0.0</td>\n",
       "      <td>-0.233965</td>\n",
       "    </tr>\n",
       "  </tbody>\n",
       "</table>\n",
       "<p>8908 rows × 8 columns</p>\n",
       "</div>"
      ],
      "text/plain": [
       "            0      1          2    3         4         5    6         7\n",
       "0       780.0    1.0   8.456844  0.0  3.588066  1.671714  0.0  0.176292\n",
       "1       786.0    1.0   9.125530  0.0  3.658583  1.662877  0.0  0.326723\n",
       "2       792.0    1.0   9.787146  0.0  3.849445  1.683334  0.0  0.371084\n",
       "3       798.0    1.0  10.472197  0.0  3.955450  1.598568  0.0  0.264795\n",
       "4       804.0    1.0  11.066000  0.0  4.061280  1.574526  0.0  0.456390\n",
       "...       ...    ...        ...  ...       ...       ...  ...       ...\n",
       "8903  12381.0  357.0  10.449366  0.0  6.229233  0.596406  0.0  0.066591\n",
       "8904  12381.0  367.0  11.201661  0.0  8.443910  0.000000  0.0  0.000000\n",
       "8905  12381.0  366.0  12.132311  0.0  6.984982  0.733247  0.0 -0.531564\n",
       "8906  12381.0  364.0  12.369087  0.0  4.146375  1.139005  0.0  0.166531\n",
       "8907  12381.0  365.0  12.708071  0.0  5.336541  0.922475  0.0 -0.233965\n",
       "\n",
       "[8908 rows x 8 columns]"
      ]
     },
     "execution_count": 4,
     "metadata": {},
     "output_type": "execute_result"
    }
   ],
   "source": [
    "df = pd.read_csv(\"./datas_train.csv\")\n",
    "df"
   ]
  },
  {
   "cell_type": "code",
   "execution_count": 5,
   "id": "90e51342",
   "metadata": {},
   "outputs": [],
   "source": [
    "df = df.drop(\"3\" ,axis = 1)\n",
    "df = df.drop(\"6\", axis = 1)\n",
    "df = df.drop(\"0\", axis = 1)\n"
   ]
  },
  {
   "cell_type": "code",
   "execution_count": 6,
   "id": "d8134f43",
   "metadata": {},
   "outputs": [
    {
     "data": {
      "text/html": [
       "<div>\n",
       "<style scoped>\n",
       "    .dataframe tbody tr th:only-of-type {\n",
       "        vertical-align: middle;\n",
       "    }\n",
       "\n",
       "    .dataframe tbody tr th {\n",
       "        vertical-align: top;\n",
       "    }\n",
       "\n",
       "    .dataframe thead th {\n",
       "        text-align: right;\n",
       "    }\n",
       "</style>\n",
       "<table border=\"1\" class=\"dataframe\">\n",
       "  <thead>\n",
       "    <tr style=\"text-align: right;\">\n",
       "      <th></th>\n",
       "      <th>pedestrian_id</th>\n",
       "      <th>pos_x</th>\n",
       "      <th>pos_y</th>\n",
       "      <th>v_x</th>\n",
       "      <th>v_y</th>\n",
       "    </tr>\n",
       "  </thead>\n",
       "  <tbody>\n",
       "    <tr>\n",
       "      <th>0</th>\n",
       "      <td>1.0</td>\n",
       "      <td>8.456844</td>\n",
       "      <td>3.588066</td>\n",
       "      <td>1.671714</td>\n",
       "      <td>0.176292</td>\n",
       "    </tr>\n",
       "    <tr>\n",
       "      <th>1</th>\n",
       "      <td>1.0</td>\n",
       "      <td>9.125530</td>\n",
       "      <td>3.658583</td>\n",
       "      <td>1.662877</td>\n",
       "      <td>0.326723</td>\n",
       "    </tr>\n",
       "    <tr>\n",
       "      <th>2</th>\n",
       "      <td>1.0</td>\n",
       "      <td>9.787146</td>\n",
       "      <td>3.849445</td>\n",
       "      <td>1.683334</td>\n",
       "      <td>0.371084</td>\n",
       "    </tr>\n",
       "    <tr>\n",
       "      <th>3</th>\n",
       "      <td>1.0</td>\n",
       "      <td>10.472197</td>\n",
       "      <td>3.955450</td>\n",
       "      <td>1.598568</td>\n",
       "      <td>0.264795</td>\n",
       "    </tr>\n",
       "    <tr>\n",
       "      <th>4</th>\n",
       "      <td>1.0</td>\n",
       "      <td>11.066000</td>\n",
       "      <td>4.061280</td>\n",
       "      <td>1.574526</td>\n",
       "      <td>0.456390</td>\n",
       "    </tr>\n",
       "    <tr>\n",
       "      <th>...</th>\n",
       "      <td>...</td>\n",
       "      <td>...</td>\n",
       "      <td>...</td>\n",
       "      <td>...</td>\n",
       "      <td>...</td>\n",
       "    </tr>\n",
       "    <tr>\n",
       "      <th>8903</th>\n",
       "      <td>357.0</td>\n",
       "      <td>10.449366</td>\n",
       "      <td>6.229233</td>\n",
       "      <td>0.596406</td>\n",
       "      <td>0.066591</td>\n",
       "    </tr>\n",
       "    <tr>\n",
       "      <th>8904</th>\n",
       "      <td>367.0</td>\n",
       "      <td>11.201661</td>\n",
       "      <td>8.443910</td>\n",
       "      <td>0.000000</td>\n",
       "      <td>0.000000</td>\n",
       "    </tr>\n",
       "    <tr>\n",
       "      <th>8905</th>\n",
       "      <td>366.0</td>\n",
       "      <td>12.132311</td>\n",
       "      <td>6.984982</td>\n",
       "      <td>0.733247</td>\n",
       "      <td>-0.531564</td>\n",
       "    </tr>\n",
       "    <tr>\n",
       "      <th>8906</th>\n",
       "      <td>364.0</td>\n",
       "      <td>12.369087</td>\n",
       "      <td>4.146375</td>\n",
       "      <td>1.139005</td>\n",
       "      <td>0.166531</td>\n",
       "    </tr>\n",
       "    <tr>\n",
       "      <th>8907</th>\n",
       "      <td>365.0</td>\n",
       "      <td>12.708071</td>\n",
       "      <td>5.336541</td>\n",
       "      <td>0.922475</td>\n",
       "      <td>-0.233965</td>\n",
       "    </tr>\n",
       "  </tbody>\n",
       "</table>\n",
       "<p>8908 rows × 5 columns</p>\n",
       "</div>"
      ],
      "text/plain": [
       "      pedestrian_id      pos_x     pos_y       v_x       v_y\n",
       "0               1.0   8.456844  3.588066  1.671714  0.176292\n",
       "1               1.0   9.125530  3.658583  1.662877  0.326723\n",
       "2               1.0   9.787146  3.849445  1.683334  0.371084\n",
       "3               1.0  10.472197  3.955450  1.598568  0.264795\n",
       "4               1.0  11.066000  4.061280  1.574526  0.456390\n",
       "...             ...        ...       ...       ...       ...\n",
       "8903          357.0  10.449366  6.229233  0.596406  0.066591\n",
       "8904          367.0  11.201661  8.443910  0.000000  0.000000\n",
       "8905          366.0  12.132311  6.984982  0.733247 -0.531564\n",
       "8906          364.0  12.369087  4.146375  1.139005  0.166531\n",
       "8907          365.0  12.708071  5.336541  0.922475 -0.233965\n",
       "\n",
       "[8908 rows x 5 columns]"
      ]
     },
     "execution_count": 6,
     "metadata": {},
     "output_type": "execute_result"
    }
   ],
   "source": [
    "df.rename(columns= {'1':\"pedestrian_id\", \"2\":\"pos_x\", \"4\":\"pos_y\", \"5\":\"v_x\", \"7\":\"v_y\"}, inplace=True)\n",
    "df"
   ]
  },
  {
   "cell_type": "code",
   "execution_count": 7,
   "id": "04d9f745",
   "metadata": {},
   "outputs": [
    {
     "data": {
      "text/plain": [
       "array([[ 8.4568443,  3.5880664],\n",
       "       [ 9.1255301,  3.6585832],\n",
       "       [ 9.787146 ,  3.8494445],\n",
       "       ...,\n",
       "       [12.132311 ,  6.9849821],\n",
       "       [12.369087 ,  4.1463753],\n",
       "       [12.708071 ,  5.3365408]])"
      ]
     },
     "execution_count": 7,
     "metadata": {},
     "output_type": "execute_result"
    }
   ],
   "source": [
    "x_y = df[[\"pos_x\", \"pos_y\"]]\n",
    "x_y_matrix = np.array(x_y)\n",
    "\n",
    "x_y_matrix"
   ]
  },
  {
   "cell_type": "code",
   "execution_count": 8,
   "id": "ed398a3e",
   "metadata": {},
   "outputs": [],
   "source": [
    "import os\n",
    "import numpy as np\n",
    "\n",
    "def world2image(traj_w, H_inv):    \n",
    "    # Converts points from Euclidean to homogeneous space, by (x, y) → (x, y, 1)\n",
    "    traj_homog = np.hstack((traj_w, np.ones((traj_w.shape[0], 1)))).T  \n",
    "    # to camera frame\n",
    "    traj_cam = np.matmul(H_inv, traj_homog)  \n",
    "    # to pixel coords\n",
    "    traj_uvz = np.transpose(traj_cam/traj_cam[2]) \n",
    "    return traj_uvz[:, :2].astype(int)    \n",
    "\n",
    "H = (np.loadtxt(\"./H.txt\"))\n",
    "H_inv = np.linalg.inv(H)\n",
    "word_pos = world2image(x_y_matrix, H_inv)  # TRAJ: Tx2 numpy array"
   ]
  },
  {
   "cell_type": "code",
   "execution_count": 9,
   "id": "14c73d4c",
   "metadata": {},
   "outputs": [],
   "source": [
    "df[\"pos_x\"] = word_pos[...,0]\n",
    "df[\"pos_y\"] = word_pos[...,1]"
   ]
  },
  {
   "cell_type": "code",
   "execution_count": 10,
   "id": "59dcc148",
   "metadata": {},
   "outputs": [
    {
     "name": "stdout",
     "output_type": "stream",
     "text": [
      "15\n",
      "464\n",
      "133\n",
      "479\n"
     ]
    }
   ],
   "source": [
    "x_min = df[\"pos_x\"].min()\n",
    "y_min = df[\"pos_y\"].min()\n",
    "x_max = df[\"pos_x\"].max()\n",
    "y_max = df[\"pos_y\"].max()\n",
    "print(x_min)\n",
    "print(x_max)\n",
    "print(y_min)\n",
    "print(y_max)"
   ]
  },
  {
   "cell_type": "code",
   "execution_count": 21,
   "id": "7546a621",
   "metadata": {},
   "outputs": [
    {
     "data": {
      "text/html": [
       "<div>\n",
       "<style scoped>\n",
       "    .dataframe tbody tr th:only-of-type {\n",
       "        vertical-align: middle;\n",
       "    }\n",
       "\n",
       "    .dataframe tbody tr th {\n",
       "        vertical-align: top;\n",
       "    }\n",
       "\n",
       "    .dataframe thead th {\n",
       "        text-align: right;\n",
       "    }\n",
       "</style>\n",
       "<table border=\"1\" class=\"dataframe\">\n",
       "  <thead>\n",
       "    <tr style=\"text-align: right;\">\n",
       "      <th></th>\n",
       "      <th>pedestrian_id</th>\n",
       "      <th>pos_x</th>\n",
       "      <th>pos_y</th>\n",
       "      <th>v_x</th>\n",
       "      <th>v_y</th>\n",
       "    </tr>\n",
       "  </thead>\n",
       "  <tbody>\n",
       "    <tr>\n",
       "      <th>0</th>\n",
       "      <td>1.0</td>\n",
       "      <td>326</td>\n",
       "      <td>275</td>\n",
       "      <td>1.671714</td>\n",
       "      <td>0.176292</td>\n",
       "    </tr>\n",
       "    <tr>\n",
       "      <th>1</th>\n",
       "      <td>1.0</td>\n",
       "      <td>343</td>\n",
       "      <td>278</td>\n",
       "      <td>1.662877</td>\n",
       "      <td>0.326723</td>\n",
       "    </tr>\n",
       "    <tr>\n",
       "      <th>2</th>\n",
       "      <td>1.0</td>\n",
       "      <td>358</td>\n",
       "      <td>283</td>\n",
       "      <td>1.683334</td>\n",
       "      <td>0.371084</td>\n",
       "    </tr>\n",
       "    <tr>\n",
       "      <th>3</th>\n",
       "      <td>1.0</td>\n",
       "      <td>375</td>\n",
       "      <td>286</td>\n",
       "      <td>1.598568</td>\n",
       "      <td>0.264795</td>\n",
       "    </tr>\n",
       "    <tr>\n",
       "      <th>4</th>\n",
       "      <td>1.0</td>\n",
       "      <td>390</td>\n",
       "      <td>289</td>\n",
       "      <td>1.574526</td>\n",
       "      <td>0.456390</td>\n",
       "    </tr>\n",
       "    <tr>\n",
       "      <th>6</th>\n",
       "      <td>1.0</td>\n",
       "      <td>407</td>\n",
       "      <td>295</td>\n",
       "      <td>1.644127</td>\n",
       "      <td>0.544391</td>\n",
       "    </tr>\n",
       "    <tr>\n",
       "      <th>8</th>\n",
       "      <td>1.0</td>\n",
       "      <td>425</td>\n",
       "      <td>301</td>\n",
       "      <td>1.623709</td>\n",
       "      <td>0.440576</td>\n",
       "    </tr>\n",
       "  </tbody>\n",
       "</table>\n",
       "</div>"
      ],
      "text/plain": [
       "   pedestrian_id  pos_x  pos_y       v_x       v_y\n",
       "0            1.0    326    275  1.671714  0.176292\n",
       "1            1.0    343    278  1.662877  0.326723\n",
       "2            1.0    358    283  1.683334  0.371084\n",
       "3            1.0    375    286  1.598568  0.264795\n",
       "4            1.0    390    289  1.574526  0.456390\n",
       "6            1.0    407    295  1.644127  0.544391\n",
       "8            1.0    425    301  1.623709  0.440576"
      ]
     },
     "execution_count": 21,
     "metadata": {},
     "output_type": "execute_result"
    }
   ],
   "source": [
    "df_1 = df[df[\"pedestrian_id\"].isin([1])]\n",
    "df_1"
   ]
  },
  {
   "cell_type": "code",
   "execution_count": 22,
   "id": "de8aa8fb",
   "metadata": {},
   "outputs": [
    {
     "data": {
      "text/plain": [
       "<AxesSubplot:xlabel='pos_x', ylabel='pos_y'>"
      ]
     },
     "execution_count": 22,
     "metadata": {},
     "output_type": "execute_result"
    },
    {
     "data": {
      "image/png": "[encoded data removed]",
      "text/plain": [
       "<Figure size 432x288 with 1 Axes>"
      ]
     },
     "metadata": {
      "needs_background": "light"
     },
     "output_type": "display_data"
    }
   ],
   "source": [
    "df_1.plot(\"pos_x\", \"pos_y\", kind = \"scatter\")"
   ]
  },
  {
   "cell_type": "code",
   "execution_count": 23,
   "id": "c55c22fe",
   "metadata": {},
   "outputs": [
    {
     "data": {
      "text/plain": [
       "<AxesSubplot:xlabel='pos_x', ylabel='pos_y'>"
      ]
     },
     "execution_count": 23,
     "metadata": {},
     "output_type": "execute_result"
    },
    {
     "data": {
      "image/png": "[encoded data removed]",
      "text/plain": [
       "<Figure size 432x288 with 1 Axes>"
      ]
     },
     "metadata": {
      "needs_background": "light"
     },
     "output_type": "display_data"
    }
   ],
   "source": [
    "df_2 = df[df[\"pedestrian_id\"].isin([2])]\n",
    "df_2.plot(\"pos_x\", \"pos_y\", kind = \"scatter\")"
   ]
  },
  {
   "cell_type": "code",
   "execution_count": 24,
   "id": "9f7248ab",
   "metadata": {},
   "outputs": [
    {
     "ename": "ModuleNotFoundError",
     "evalue": "No module named 'toolkit'",
     "output_type": "error",
     "traceback": [
      "\u001b[0;31m---------------------------------------------------------------------------\u001b[0m",
      "\u001b[0;31mModuleNotFoundError\u001b[0m                       Traceback (most recent call last)",
      "\u001b[0;32m/tmp/ipykernel_7153/3842058626.py\u001b[0m in \u001b[0;36m<module>\u001b[0;34m\u001b[0m\n\u001b[1;32m      1\u001b[0m \u001b[0;32mimport\u001b[0m \u001b[0mos\u001b[0m\u001b[0;34m\u001b[0m\u001b[0;34m\u001b[0m\u001b[0m\n\u001b[0;32m----> 2\u001b[0;31m \u001b[0;32mfrom\u001b[0m \u001b[0mtoolkit\u001b[0m\u001b[0;34m.\u001b[0m\u001b[0mloaders\u001b[0m\u001b[0;34m.\u001b[0m\u001b[0mloader_eth\u001b[0m \u001b[0;32mimport\u001b[0m \u001b[0mload_eth\u001b[0m\u001b[0;34m\u001b[0m\u001b[0;34m\u001b[0m\u001b[0m\n\u001b[0m\u001b[1;32m      3\u001b[0m \u001b[0;31m# fixme: replace OPENTRAJ_ROOT with the address to root folder of OpenTraj\u001b[0m\u001b[0;34m\u001b[0m\u001b[0;34m\u001b[0m\u001b[0;34m\u001b[0m\u001b[0m\n\u001b[1;32m      4\u001b[0m \u001b[0mtraj_dataset\u001b[0m \u001b[0;34m=\u001b[0m \u001b[0mload_eth\u001b[0m\u001b[0;34m(\u001b[0m\u001b[0;34m\"./obsmat.txt\"\u001b[0m\u001b[0;34m)\u001b[0m\u001b[0;34m\u001b[0m\u001b[0;34m\u001b[0m\u001b[0m\n\u001b[1;32m      5\u001b[0m \u001b[0mtrajs\u001b[0m \u001b[0;34m=\u001b[0m \u001b[0mtraj_dataset\u001b[0m\u001b[0;34m.\u001b[0m\u001b[0mget_trajectories\u001b[0m\u001b[0;34m(\u001b[0m\u001b[0;34m)\u001b[0m\u001b[0;34m\u001b[0m\u001b[0;34m\u001b[0m\u001b[0m\n",
      "\u001b[0;31mModuleNotFoundError\u001b[0m: No module named 'toolkit'"
     ]
    }
   ],
   "source": [
    "import os\n",
    "from toolkit.loaders.loader_eth import load_eth\n",
    "# fixme: replace OPENTRAJ_ROOT with the address to root folder of OpenTraj\n",
    "traj_dataset = load_eth(\"./obsmat.txt\")\n",
    "trajs = traj_dataset.get_trajectories()"
   ]
  },
  {
   "cell_type": "code",
   "execution_count": null,
   "id": "8ab49283",
   "metadata": {},
   "outputs": [],
   "source": []
  }
 ],
 "metadata": {
  "kernelspec": {
   "display_name": "Python 3 (ipykernel)",
   "language": "python",
   "name": "python3"
  },
  "language_info": {
   "codemirror_mode": {
    "name": "ipython",
    "version": 3
   },
   "file_extension": ".py",
   "mimetype": "text/x-python",
   "name": "python",
   "nbconvert_exporter": "python",
   "pygments_lexer": "ipython3",
   "version": "3.9.5"
  }
 },
 "nbformat": 4,
 "nbformat_minor": 5
}
